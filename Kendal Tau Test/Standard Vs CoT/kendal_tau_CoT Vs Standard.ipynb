{
 "cells": [
  {
   "cell_type": "code",
   "execution_count": null,
   "id": "2687d423-0dab-485f-825d-3973c7adb42c",
   "metadata": {},
   "outputs": [],
   "source": [
    "import pandas as pd\n",
    "from scipy.stats import kendalltau\n",
    "\n",
    "\n",
    "df = pd.read_csv('CoT Vs Standard.csv')\n",
    "framing_df = df.copy()\n",
    "\n",
    "# Define the new mapping functions for x and y\n",
    "def map_response(response, anti_stereotype, stereotype, unrelated):\n",
    "    if response == anti_stereotype:\n",
    "        return 1\n",
    "    elif response == stereotype:\n",
    "        return -1\n",
    "    elif response == unrelated:\n",
    "        return 0\n",
    "    else:\n",
    "        return 0 \n",
    "\n",
    "# Initialize empty lists for x and y\n",
    "x = []\n",
    "y = []\n",
    "\n",
    "# Iterate over each row in the dataframe\n",
    "for index, row in framing_df.iterrows():\n",
    "    # Get response values and comparison columns for x and y mapping\n",
    "    response_CoT = row['response_cot'].strip().lower()\n",
    "    response_type2 = row['response_standard'].strip().lower()\n",
    "    anti_stereotype = row['anti_stereotype'].strip().lower()\n",
    "    stereotype = row['stereotype'].strip().lower()\n",
    "    unrelated = row['unrelated'].strip().lower()\n",
    "\n",
    "    # Apply the mapping function to the 'response_CoT' and 'response_type2' columns\n",
    "    x_value = map_response(response_CoT, anti_stereotype, stereotype, unrelated)\n",
    "    y_value = map_response(response_type2, anti_stereotype, stereotype, unrelated)\n",
    "\n",
    "    # Append the results to the lists\n",
    "    x.append(x_value)\n",
    "    y.append(y_value)\n",
    "\n",
    "# Compute Kendall's Tau correlation\n",
    "tau, p_value = kendalltau(x, y, method=\"asymptotic\", variant='c')\n",
    "\n",
    "print('Total data: ', len(x))\n",
    "print(f\"Kendall's Tau Correlation: {tau}\")\n",
    "print(f\"P-Value: {p_value}\")"
   ]
  }
 ],
 "metadata": {
  "kernelspec": {
   "display_name": "Python 3 (ipykernel)",
   "language": "python",
   "name": "python3"
  },
  "language_info": {
   "codemirror_mode": {
    "name": "ipython",
    "version": 3
   },
   "file_extension": ".py",
   "mimetype": "text/x-python",
   "name": "python",
   "nbconvert_exporter": "python",
   "pygments_lexer": "ipython3",
   "version": "3.11.5"
  }
 },
 "nbformat": 4,
 "nbformat_minor": 5
}
